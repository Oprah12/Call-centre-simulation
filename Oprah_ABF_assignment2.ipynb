{
  "cells": [
    {
      "cell_type": "code",
      "execution_count": 39,
      "id": "thermal-hearing",
      "metadata": {
        "id": "thermal-hearing"
      },
      "outputs": [],
      "source": [
        "import numpy as np\n",
        "import matplotlib.pyplot as plt\n",
        "from itertools import combinations\n"
      ]
    },
    {
      "cell_type": "markdown",
      "source": [
        "Question 2a"
      ],
      "metadata": {
        "id": "qj5i-4nSidsE"
      },
      "id": "qj5i-4nSidsE"
    },
    {
      "cell_type": "code",
      "source": [
        " #The majority function for level 2\n",
        "# x is numpy array of length n=m^2 for odd m. Return level 2 majority of x.\n",
        "def level_two_majority(x):\n",
        "    return np.sign(np.sum([sum(x[i:i+3]) for i in range(0, len(x), 3)])) # Takes majority of size m=3, then computes overall majority"
      ],
      "metadata": {
        "id": "t5U1Q0uwiMNN"
      },
      "id": "t5U1Q0uwiMNN",
      "execution_count": 24,
      "outputs": []
    },
    {
      "cell_type": "code",
      "source": [
        "def fhat(f, S):\n",
        "    n = len(S)\n",
        "    binary_combinations = [binarize(i, n) for i in range(2 ** n)]\n",
        "    summ = sum(parity(S, x) * f(x) for x in binary_combinations)\n",
        "    return summ / (2 ** n)\n",
        "\n",
        "\n",
        "\n"
      ],
      "metadata": {
        "id": "Vf1YuAZwp1LD"
      },
      "id": "Vf1YuAZwp1LD",
      "execution_count": 79,
      "outputs": []
    },
    {
      "cell_type": "markdown",
      "source": [
        "### 2(b) Maj$_9$ :{$\\pm 1$}$^9$ $\\rightarrow$ {$ \\pm1$}"
      ],
      "metadata": {
        "id": "5JFC_2r8gga_"
      },
      "id": "5JFC_2r8gga_"
    },
    {
      "cell_type": "code",
      "execution_count": 67,
      "id": "danish-diagram",
      "metadata": {
        "id": "danish-diagram"
      },
      "outputs": [],
      "source": [
        "# Assume x is a numpy array with n odd.\n",
        "def majority(x):\n",
        "    return np.sign(np.sum(x))"
      ]
    },
    {
      "cell_type": "code",
      "execution_count": 25,
      "id": "needed-specific",
      "metadata": {
        "id": "needed-specific",
        "colab": {
          "base_uri": "https://localhost:8080/"
        },
        "outputId": "ddcc0472-507f-4360-a13e-22185c9bf8b5"
      },
      "outputs": [
        {
          "output_type": "stream",
          "name": "stdout",
          "text": [
            "1\n"
          ]
        }
      ],
      "source": [
        "# testing the code\n",
        "print( majority(np.array([+1, +1, -1, -1, -1,+1,+1 +1,-1])) )"
      ]
    },
    {
      "cell_type": "markdown",
      "id": "hispanic-nightmare",
      "metadata": {
        "id": "hispanic-nightmare"
      },
      "source": [
        "### Calculating the parity"
      ]
    },
    {
      "cell_type": "code",
      "execution_count": 68,
      "id": "spanish-james",
      "metadata": {
        "id": "spanish-james"
      },
      "outputs": [],
      "source": [
        "# Assume x is numpy array of {+1,-1}.\n",
        "# S is array of {0, 1}. S[i] == 1 iff i in S.\n",
        "def parity(S, x):\n",
        "    result = 1\n",
        "    n = len(S)\n",
        "    for i in range(n):\n",
        "        if S[i] == 1:\n",
        "            result *= x[i]\n",
        "    return result"
      ]
    },
    {
      "cell_type": "code",
      "source": [
        "# Assume x is a numpy array with n odd.\n",
        "def majority(x):\n",
        "    return np.sign(np.sum(x))"
      ],
      "metadata": {
        "id": "7qD_Yi-Yrax_"
      },
      "id": "7qD_Yi-Yrax_",
      "execution_count": 69,
      "outputs": []
    },
    {
      "cell_type": "code",
      "source": [
        "def fourier_coefficients(truth_table):\n",
        "    \"\"\"\n",
        "    Computes the Fourier coefficients for a given truth table.\n",
        "    Returns a list of coefficients in the order of increasing degree.\n",
        "    \"\"\"\n",
        "    n = len(truth_table)\n",
        "    coefficients = []\n",
        "    for k in range(n):\n",
        "        coefficient = 0\n",
        "        for i, value in enumerate(truth_table):\n",
        "            coefficient += (-1) ** bin(i & k).count('1') * value\n",
        "        coefficient /= n\n",
        "        coefficients.append(coefficient)\n",
        "    return coefficients\n"
      ],
      "metadata": {
        "id": "FQiaJUQPraj7"
      },
      "id": "FQiaJUQPraj7",
      "execution_count": 70,
      "outputs": []
    },
    {
      "cell_type": "code",
      "source": [
        "# Example usage for the parity function with 3 variables\n",
        "n = 3\n",
        "truth_table = parity_function(n)\n",
        "coefficients = fourier_coefficients(truth_table)\n",
        "\n",
        "print(f\"Fourier coefficients for the parity function with {n} variables:\")\n",
        "for i, coefficient in enumerate(coefficients):\n",
        "    print(f\"Coefficient {i}: {coefficient}\")\n",
        "\n"
      ],
      "metadata": {
        "colab": {
          "base_uri": "https://localhost:8080/"
        },
        "id": "L3RwYBFhr4FB",
        "outputId": "d885ad2c-a15b-4cd0-a322-b90767b21a7e"
      },
      "id": "L3RwYBFhr4FB",
      "execution_count": 73,
      "outputs": [
        {
          "output_type": "stream",
          "name": "stdout",
          "text": [
            "Fourier coefficients for the parity function with 3 variables:\n",
            "Coefficient 0: 0.5\n",
            "Coefficient 1: 0.0\n",
            "Coefficient 2: 0.0\n",
            "Coefficient 3: 0.0\n",
            "Coefficient 4: 0.0\n",
            "Coefficient 5: 0.0\n",
            "Coefficient 6: 0.0\n",
            "Coefficient 7: -0.5\n"
          ]
        }
      ]
    },
    {
      "cell_type": "code",
      "execution_count": 27,
      "id": "secret-female",
      "metadata": {
        "id": "secret-female"
      },
      "outputs": [],
      "source": [
        "#def fhat(f,S):\n",
        " #   n= len(S)\n",
        "  #  return np.mean([f(x)*parity(S,x) for x in np.prod([-1,1],repeat = n)])\n"
      ]
    },
    {
      "cell_type": "code",
      "source": [
        "def fhat(f, S):\n",
        "    n = len(S)\n",
        "    x_vals = np.array(list(combinations([-1, 1], n)))\n",
        "    return np.mean([f(x) * parity(S, x) for x in x_vals])\n"
      ],
      "metadata": {
        "id": "Svcp4KLhmAK2"
      },
      "id": "Svcp4KLhmAK2",
      "execution_count": 58,
      "outputs": []
    },
    {
      "cell_type": "code",
      "source": [
        "#fhat(Maj_3, [1,1,1]) = hat{Maj_3}({0,1,2}) = -1/2\n",
        "fhat(majority, np.array([1, 1, 1]))"
      ],
      "metadata": {
        "colab": {
          "base_uri": "https://localhost:8080/"
        },
        "id": "_w28EZgLm-Kw",
        "outputId": "fc213c3b-c6a4-4d73-bc12-635267554582"
      },
      "id": "_w28EZgLm-Kw",
      "execution_count": 59,
      "outputs": [
        {
          "output_type": "execute_result",
          "data": {
            "text/plain": [
              "nan"
            ]
          },
          "metadata": {},
          "execution_count": 59
        }
      ]
    },
    {
      "cell_type": "code",
      "execution_count": 48,
      "id": "atomic-fabric",
      "metadata": {
        "id": "atomic-fabric"
      },
      "outputs": [],
      "source": [
        "def noise_stability(f, n, rho):\n",
        "    stab = 0\n",
        "    for k in range(n + 1):\n",
        "        # Generate all combinations of size k from the range of n\n",
        "        for s in combinations(range(n), k):\n",
        "            # Calculate the noise stability contribution for the current combination\n",
        "            # and add it to the total stability\n",
        "            stab += abs(fhat(f, s))**2 * (rho**(n - k)) * ((rho)**k)\n",
        "    return stab\n"
      ]
    },
    {
      "cell_type": "code",
      "source": [
        "x = np.array([1, 1, -1, 1, 1, -1, -1, 1, -1])\n",
        "stab = noise_stability(majority, len(x), 0.9)\n",
        "print(stab)"
      ],
      "metadata": {
        "colab": {
          "base_uri": "https://localhost:8080/"
        },
        "id": "tmt3K4LudWsD",
        "outputId": "945fd924-ba68-47c7-8acb-7209977d0144"
      },
      "id": "tmt3K4LudWsD",
      "execution_count": 50,
      "outputs": [
        {
          "output_type": "stream",
          "name": "stdout",
          "text": [
            "nan\n"
          ]
        }
      ]
    },
    {
      "cell_type": "code",
      "execution_count": 51,
      "id": "periodic-produce",
      "metadata": {
        "id": "periodic-produce"
      },
      "outputs": [],
      "source": [
        "def paradox_probability(f,n):\n",
        "    num_paradoxes = 0\n",
        "    total_cases = 0\n",
        "    for x in product([-1,1],repeat=n):\n",
        "        ranks = np.argsort([f(x[:3]),f(x[3:6]),f(x[6:])])\n",
        "        if ranks ==[0,1,2] or ranks == [2,0,1] or ranks == [1,2,0]:\n",
        "            num_paradxes +=1\n",
        "        total_cases +=1\n",
        "    return num_paradoxes /total_cases"
      ]
    },
    {
      "cell_type": "code",
      "source": [
        "# The majority function for level 2\n",
        "# x is numpy array of length n=m^2 for odd m. Return level 2 majority of x.\n",
        "def majority2(x):\n",
        "    return np.sign(np.sum([sum(x[i:i+3]) for i in range(0, len(x), 3)])) # Takes majority of sizes 3,\n",
        "                                                                         # then computes overal majority"
      ],
      "metadata": {
        "id": "kFdjcSdkZIxp"
      },
      "id": "kFdjcSdkZIxp",
      "execution_count": 52,
      "outputs": []
    },
    {
      "cell_type": "code",
      "source": [],
      "metadata": {
        "colab": {
          "base_uri": "https://localhost:8080/"
        },
        "id": "oRfMHTEBZJUL",
        "outputId": "506dc41a-4248-498a-f8e5-ea7dc8cf2940"
      },
      "id": "oRfMHTEBZJUL",
      "execution_count": 53,
      "outputs": [
        {
          "output_type": "stream",
          "name": "stdout",
          "text": [
            "1\n"
          ]
        }
      ]
    },
    {
      "cell_type": "code",
      "source": [],
      "metadata": {
        "id": "dJ_8QqauZUVr"
      },
      "id": "dJ_8QqauZUVr",
      "execution_count": 53,
      "outputs": []
    }
  ],
  "metadata": {
    "kernelspec": {
      "display_name": "Python 3",
      "language": "python",
      "name": "python3"
    },
    "language_info": {
      "codemirror_mode": {
        "name": "ipython",
        "version": 3
      },
      "file_extension": ".py",
      "mimetype": "text/x-python",
      "name": "python",
      "nbconvert_exporter": "python",
      "pygments_lexer": "ipython3",
      "version": "3.9.2"
    },
    "colab": {
      "provenance": []
    }
  },
  "nbformat": 4,
  "nbformat_minor": 5
}